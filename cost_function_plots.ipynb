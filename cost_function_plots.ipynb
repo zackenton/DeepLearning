{
 "cells": [
  {
   "cell_type": "code",
   "execution_count": 1,
   "metadata": {},
   "outputs": [],
   "source": [
    "import numpy as np\n",
    "from matplotlib import pyplot as plt\n",
    "import theano\n",
    "from theano import tensor as T\n",
    "\n",
    "from FeedForwardNetwork import FeedForwardNetwork\n",
    "from utils import arbitrary_polynomial\n",
    "\n",
    "from mpl_toolkits.mplot3d import Axes3D\n",
    "from matplotlib import cm\n",
    "from matplotlib.ticker import LinearLocator, FormatStrFormatter\n",
    "\n",
    "import matplotlib as mpl\n",
    "from twodFFNN import FeedForwardNetwork as two_d_network\n",
    "\n",
    "import plotly.plotly as py\n",
    "import plotly.graph_objs as go\n",
    "import pandas as pd\n",
    "\n",
    "mpl.rcParams['figure.figsize'] = (18,16)"
   ]
  },
  {
   "cell_type": "code",
   "execution_count": 2,
   "metadata": {},
   "outputs": [],
   "source": [
    "PARAMS = [10.0, 0, -1.0, 5.0]\n",
    "x_values = np.arange(-1, 1, 0.05)\n",
    "data_true = arbitrary_polynomial(x_values, PARAMS)\n",
    "\n",
    "np.random.seed(123)\n",
    "data_sampled = np.random.normal(loc=data_true, scale=0.05)"
   ]
  },
  {
   "cell_type": "code",
   "execution_count": 3,
   "metadata": {},
   "outputs": [
    {
     "name": "stdout",
     "output_type": "stream",
     "text": [
      "Started.\n",
      "At iteration 1000, cost = 0.362520, Total run time = 0.00 mins\n",
      "At iteration 2000, cost = 0.265259, Total run time = 0.01 mins\n",
      "At iteration 3000, cost = 0.162458, Total run time = 0.01 mins\n",
      "At iteration 4000, cost = 0.124765, Total run time = 0.02 mins\n",
      "At iteration 5000, cost = 0.117968, Total run time = 0.02 mins\n",
      "At iteration 6000, cost = 0.116957, Total run time = 0.03 mins\n",
      "At iteration 7000, cost = 0.116812, Total run time = 0.03 mins\n",
      "At iteration 8000, cost = 0.116791, Total run time = 0.03 mins\n",
      "At iteration 9000, cost = 0.116788, Total run time = 0.04 mins\n",
      "At iteration 9999, cost = 0.116787, Total run time = 0.04 mins\n",
      "Saving...\n",
      "Saved.\n"
     ]
    }
   ],
   "source": [
    "model = two_d_network(n_hidden_units=1, seed=4, rand=False, W1_in=2.0, W2_in=2.0)\n",
    "\n",
    "n_iterations = 10**4\n",
    "\n",
    "model.learn(x_values, data_sampled, n_iters=n_iterations, learn_rate=.001, save_to_path='./try/two_d/')"
   ]
  },
  {
   "cell_type": "code",
   "execution_count": 4,
   "metadata": {},
   "outputs": [
    {
     "data": {
      "text/plain": [
       "[array(0.4177210680934335),\n",
       " array(0.3625200838128257),\n",
       " array(0.26525864959642226),\n",
       " array(0.1624577674944445),\n",
       " array(0.12476510134775716),\n",
       " array(0.11796815187463223),\n",
       " array(0.11695678497469261),\n",
       " array(0.11681173884994174),\n",
       " array(0.1167909415096821),\n",
       " array(0.11678780592791652),\n",
       " array(0.11678717759984872)]"
      ]
     },
     "execution_count": 4,
     "metadata": {},
     "output_type": "execute_result"
    }
   ],
   "source": [
    "model.cost_array"
   ]
  },
  {
   "cell_type": "code",
   "execution_count": 5,
   "metadata": {
    "collapsed": true
   },
   "outputs": [],
   "source": [
    "def cost_function_2d(W1, W2, non_lin = np.tanh, y_true = data_sampled, x=x_values):\n",
    "    h = non_lin(np.einsum('ij,A->ijA',W1,x))\n",
    "    ident = np.eye(len(W1))\n",
    "    pred = non_lin(np.einsum('ij, klA, ik, jl->ijA',W2,h, ident, ident))\n",
    "    err = pred - y_true\n",
    "    cost = np.einsum('ijA,ijA -> ij', err, err)/(2*x.shape[0])\n",
    "    return cost"
   ]
  },
  {
   "cell_type": "code",
   "execution_count": 6,
   "metadata": {
    "collapsed": true
   },
   "outputs": [],
   "source": [
    "def plot_cost_surface(W1_range, W2_range, model):\n",
    "    \"\"\"plots cost surface and trajectory of learning\"\"\"\n",
    "    W1, W2 = np.meshgrid(W1_range, W2_range)\n",
    "    cost = cost_function_2d(W1, W2)\n",
    "\n",
    "    trace1 = go.Surface(\n",
    "            z = cost,\n",
    "            x = W1[0,:],\n",
    "            y = W2[:,0]\n",
    "        )\n",
    "\n",
    "    W1_tried = np.array(model.W1_array)\n",
    "    W2_tried = np.array(model.W2_array)\n",
    "\n",
    "    trace2 = go.Scatter3d(\n",
    "        x=W1_tried,\n",
    "        y=W2_tried,\n",
    "        z = np.array(model.cost_array),\n",
    "        mode='markers+lines',\n",
    "        name='steepest',\n",
    "        line=dict(\n",
    "            color='black'\n",
    "        )\n",
    "    )\n",
    "\n",
    "    layout = go.Layout(\n",
    "        title='Cost'\n",
    "    )\n",
    "\n",
    "    data = [trace1, trace2]\n",
    "    fig = go.Figure(data=data, layout=layout)\n",
    "    return py.iplot(fig, filename='contour-scatter')"
   ]
  },
  {
   "cell_type": "code",
   "execution_count": 8,
   "metadata": {},
   "outputs": [
    {
     "data": {
      "text/html": [
       "<iframe id=\"igraph\" scrolling=\"no\" style=\"border:none;\" seamless=\"seamless\" src=\"https://plot.ly/~zac_kenton/25.embed\" height=\"525px\" width=\"100%\"></iframe>"
      ],
      "text/plain": [
       "<plotly.tools.PlotlyDisplay object>"
      ]
     },
     "execution_count": 8,
     "metadata": {},
     "output_type": "execute_result"
    }
   ],
   "source": [
    "plot_cost_surface(np.arange(-5, 5, 0.5), np.arange(-5, 5, 0.5), model)"
   ]
  },
  {
   "cell_type": "code",
   "execution_count": 7,
   "metadata": {},
   "outputs": [
    {
     "data": {
      "text/plain": [
       "[array(2.0),\n",
       " array(1.9879666188861964),\n",
       " array(1.189983236931913),\n",
       " array(1.1136442894033118),\n",
       " array(1.0402928065218096),\n",
       " array(0.970292587214872),\n",
       " array(0.9039242577008061),\n",
       " array(0.8413832458529344),\n",
       " array(0.7827850921972214),\n",
       " array(0.7281759969167138),\n",
       " array(0.6775459343956076),\n",
       " array(0.6308864626684356)]"
      ]
     },
     "execution_count": 7,
     "metadata": {},
     "output_type": "execute_result"
    }
   ],
   "source": [
    "model.W1_array"
   ]
  },
  {
   "cell_type": "code",
   "execution_count": null,
   "metadata": {
    "collapsed": true
   },
   "outputs": [],
   "source": []
  },
  {
   "cell_type": "code",
   "execution_count": null,
   "metadata": {
    "collapsed": true
   },
   "outputs": [],
   "source": []
  },
  {
   "cell_type": "code",
   "execution_count": null,
   "metadata": {
    "collapsed": true
   },
   "outputs": [],
   "source": []
  },
  {
   "cell_type": "code",
   "execution_count": null,
   "metadata": {
    "collapsed": true
   },
   "outputs": [],
   "source": []
  },
  {
   "cell_type": "code",
   "execution_count": 22,
   "metadata": {},
   "outputs": [
    {
     "data": {
      "image/png": "[encoded data removed]",
      "text/plain": [
       "<matplotlib.figure.Figure at 0x7f4416dd6940>"
      ]
     },
     "metadata": {},
     "output_type": "display_data"
    }
   ],
   "source": [
    "PARAMS = [10.0, 0, -1.0, 5.0]\n",
    "x_values = np.arange(-1, 1, 0.05)\n",
    "\n",
    "data_true = arbitrary_polynomial(x_values, PARAMS)\n",
    "data_sampled = np.random.normal(loc=data_true, scale=0.05)\n",
    "\n",
    "plt.figure(figsize=(16,6))\n",
    "plt.plot(x_values, data_true, label='Underlying distribution')\n",
    "plt.plot(x_values, data_sampled, 'o', color='darkorange', label='Sampled data')\n",
    "plt.title(\"Data sample and underlying distribution\")\n",
    "plt.legend()\n",
    "plt.show()"
   ]
  },
  {
   "cell_type": "code",
   "execution_count": 21,
   "metadata": {
    "collapsed": true
   },
   "outputs": [],
   "source": [
    "def Tanh(x):\n",
    "    return np.tanh(x)"
   ]
  },
  {
   "cell_type": "code",
   "execution_count": 23,
   "metadata": {
    "collapsed": true
   },
   "outputs": [],
   "source": [
    "def cost_function_2d(W1, W2, non_lin = Tanh, y_true = data_sampled, x=x_values):\n",
    "    h = non_lin(np.einsum('ij,A->ijA',W1,x))\n",
    "    ident = np.eye(len(W1))\n",
    "    pred = non_lin(np.einsum('ij, klA, ik, jl->ijA',W2,h, ident, ident))\n",
    "    err = pred - y_true\n",
    "    cost = np.einsum('ijA,ijA -> ij', err, err)/(2*x.shape[0])\n",
    "    return cost"
   ]
  },
  {
   "cell_type": "code",
   "execution_count": 27,
   "metadata": {},
   "outputs": [
    {
     "name": "stdout",
     "output_type": "stream",
     "text": [
      "Started.\n",
      "At iteration 1000, cost = 0.121062, Total run time = 0.00 mins\n",
      "At iteration 2000, cost = 0.120644, Total run time = 0.01 mins\n",
      "At iteration 3000, cost = 0.120644, Total run time = 0.01 mins\n",
      "At iteration 4000, cost = 0.120644, Total run time = 0.02 mins\n",
      "At iteration 5000, cost = 0.120644, Total run time = 0.02 mins\n",
      "At iteration 6000, cost = 0.120644, Total run time = 0.03 mins\n",
      "At iteration 7000, cost = 0.120644, Total run time = 0.03 mins\n",
      "At iteration 8000, cost = 0.120644, Total run time = 0.04 mins\n",
      "At iteration 9000, cost = 0.120644, Total run time = 0.04 mins\n",
      "At iteration 9999, cost = 0.120524, Total run time = 0.05 mins\n",
      "Saving...\n",
      "Saved.\n"
     ]
    }
   ],
   "source": [
    "model = two_d_network(n_hidden_units=1, seed=4, rand=False, W1_in=2.0, W2_in=2.0)\n",
    "\n",
    "n_iterations = 10**4\n",
    "\n",
    "model.learn(x_values, data_sampled, n_iters=n_iterations, learn_rate=10.0, save_to_path='./try/two_d/')"
   ]
  },
  {
   "cell_type": "code",
   "execution_count": 34,
   "metadata": {},
   "outputs": [
    {
     "data": {
      "text/html": [
       "<iframe id=\"igraph\" scrolling=\"no\" style=\"border:none;\" seamless=\"seamless\" src=\"https://plot.ly/~zac_kenton/25.embed\" height=\"800px\" width=\"800px\"></iframe>"
      ],
      "text/plain": [
       "<plotly.tools.PlotlyDisplay object>"
      ]
     },
     "execution_count": 34,
     "metadata": {},
     "output_type": "execute_result"
    }
   ],
   "source": [
    "W1 = np.arange(-5, 5, 0.5)\n",
    "W2 = np.arange(-5, 5, 0.5)\n",
    "W1, W2 = np.meshgrid(W1, W2)\n",
    "Z = cost_function_2d(W1, W2)\n",
    "\n",
    "trace1 = go.Surface(\n",
    "        z = Z,\n",
    "        x = W1[0,:],\n",
    "        y = W2[:,0]\n",
    "    )\n",
    "\n",
    "# data = [trace1]\n",
    "# py.iplot(data)\n",
    "\n",
    "\n",
    "W1_tried = np.array(model.W1_array)\n",
    "W2_tried = np.array(model.W2_array)\n",
    "\n",
    "trace2 = go.Scatter3d(\n",
    "    x=W1_tried,\n",
    "    y=W2_tried,\n",
    "    z = np.array(model.cost_array),\n",
    "    mode='markers+lines',\n",
    "    name='steepest',\n",
    "    line=dict(\n",
    "        color='black'\n",
    "    )\n",
    ")\n",
    "\n",
    "layout = go.Layout(\n",
    "    title='cost',\n",
    "    autosize=False,\n",
    "    width=800,\n",
    "    height=800,\n",
    "    margin=dict(\n",
    "        l=65,\n",
    "        r=50,\n",
    "        b=65,\n",
    "        t=90\n",
    "    )\n",
    ")\n",
    "\n",
    "data = [trace1, trace2]\n",
    "fig = go.Figure(data=data, layout=layout)\n",
    "py.iplot(fig, filename='contour-scatter')\n",
    "\n",
    "#\n"
   ]
  },
  {
   "cell_type": "code",
   "execution_count": 30,
   "metadata": {
    "scrolled": false
   },
   "outputs": [
    {
     "data": {
      "image/png": "[encoded data removed]",
      "text/plain": [
       "<matplotlib.figure.Figure at 0x7f4416e5c748>"
      ]
     },
     "metadata": {},
     "output_type": "display_data"
    }
   ],
   "source": [
    "PARAMS = [10.0, 0, -1.0, 5.0]\n",
    "x_values = np.arange(-1, 1, 0.05)\n",
    "\n",
    "data_true = arbitrary_polynomial(x_values, PARAMS)\n",
    "data_sampled = np.random.normal(loc=data_true, scale=0.05)\n",
    "\n",
    "plt.figure(figsize=(16,6))\n",
    "plt.plot(x_values, data_true, label='Underlying distribution')\n",
    "plt.plot(x_values, data_sampled, 'o', color='darkorange', label='Sampled data')\n",
    "plt.title(\"Data sample and underlying distribution\")\n",
    "plt.legend()\n",
    "plt.show()"
   ]
  },
  {
   "cell_type": "code",
   "execution_count": 31,
   "metadata": {
    "scrolled": true
   },
   "outputs": [
    {
     "name": "stdout",
     "output_type": "stream",
     "text": [
      "Started.\n",
      "At iteration 1000, cost = 0.120450, Total run time = 0.00 mins\n",
      "At iteration 2000, cost = 0.120037, Total run time = 0.01 mins\n",
      "At iteration 3000, cost = 0.120036, Total run time = 0.01 mins\n",
      "At iteration 4000, cost = 0.120037, Total run time = 0.02 mins\n",
      "At iteration 5000, cost = 0.120036, Total run time = 0.02 mins\n",
      "At iteration 6000, cost = 0.120036, Total run time = 0.03 mins\n",
      "At iteration 7000, cost = 0.120037, Total run time = 0.03 mins\n",
      "At iteration 8000, cost = 0.120036, Total run time = 0.04 mins\n",
      "At iteration 9000, cost = 0.120037, Total run time = 0.04 mins\n",
      "At iteration 9999, cost = 0.119916, Total run time = 0.05 mins\n",
      "Saving...\n",
      "Saved.\n"
     ]
    }
   ],
   "source": [
    "model = two_d_network(n_hidden_units=1, seed=4, rand=False, W1_in=2.0, W2_in=2.0)\n",
    "\n",
    "n_iterations = 10**4\n",
    "\n",
    "model.learn(x_values, data_sampled, n_iters=n_iterations, learn_rate=10.0, save_to_path='./try/two_d/')"
   ]
  },
  {
   "cell_type": "code",
   "execution_count": 32,
   "metadata": {},
   "outputs": [
    {
     "data": {
      "text/html": [
       "<iframe id=\"igraph\" scrolling=\"no\" style=\"border:none;\" seamless=\"seamless\" src=\"https://plot.ly/~zac_kenton/25.embed\" height=\"800px\" width=\"800px\"></iframe>"
      ],
      "text/plain": [
       "<plotly.tools.PlotlyDisplay object>"
      ]
     },
     "execution_count": 32,
     "metadata": {},
     "output_type": "execute_result"
    }
   ],
   "source": [
    "W1 = np.arange(-1, 1, 0.05)\n",
    "W2 = np.arange(-1, 1, 0.05)\n",
    "W1, W2 = np.meshgrid(W1, W2)\n",
    "Z = cost_function_2d(W1, W2)\n",
    "\n",
    "trace1 = go.Surface(\n",
    "        z = Z,\n",
    "        x = W1[0,:],\n",
    "        y = W2[:,0]\n",
    "    )\n",
    "\n",
    "# data = [trace1]\n",
    "# py.iplot(data)\n",
    "\n",
    "\n",
    "W1_tried = np.array(model.W1_array)\n",
    "W2_tried = np.array(model.W2_array)\n",
    "\n",
    "trace2 = go.Scatter3d(\n",
    "    x=W1_tried,\n",
    "    y=W2_tried,\n",
    "    z = np.array(model.cost_array),\n",
    "    mode='markers+lines',\n",
    "    name='steepest',\n",
    "    line=dict(\n",
    "        color='black'\n",
    "    )\n",
    ")\n",
    "\n",
    "layout = go.Layout(\n",
    "    title='cost',\n",
    "    autosize=False,\n",
    "    width=800,\n",
    "    height=800,\n",
    "    margin=dict(\n",
    "        l=65,\n",
    "        r=50,\n",
    "        b=65,\n",
    "        t=90\n",
    "    )\n",
    ")\n",
    "\n",
    "data = [trace1, trace2]\n",
    "fig = go.Figure(data=data, layout=layout)\n",
    "py.iplot(fig, filename='contour-scatter')\n",
    "\n",
    "#\n"
   ]
  },
  {
   "cell_type": "code",
   "execution_count": null,
   "metadata": {
    "collapsed": true
   },
   "outputs": [],
   "source": []
  },
  {
   "cell_type": "code",
   "execution_count": null,
   "metadata": {
    "collapsed": true
   },
   "outputs": [],
   "source": []
  },
  {
   "cell_type": "code",
   "execution_count": null,
   "metadata": {
    "collapsed": true
   },
   "outputs": [],
   "source": []
  },
  {
   "cell_type": "code",
   "execution_count": null,
   "metadata": {
    "collapsed": true
   },
   "outputs": [],
   "source": []
  },
  {
   "cell_type": "markdown",
   "metadata": {},
   "source": [
    "# Higher Dim stuff"
   ]
  },
  {
   "cell_type": "code",
   "execution_count": 3,
   "metadata": {},
   "outputs": [
    {
     "name": "stdout",
     "output_type": "stream",
     "text": [
      "Started.\n",
      "At iteration 100, cost = 0.012309, Total run time = 0.00 mins\n",
      "At iteration 200, cost = 0.001943, Total run time = 0.00 mins\n",
      "At iteration 300, cost = 0.001854, Total run time = 0.00 mins\n",
      "At iteration 400, cost = 0.001780, Total run time = 0.00 mins\n",
      "At iteration 500, cost = 0.001725, Total run time = 0.00 mins\n",
      "At iteration 600, cost = 0.001691, Total run time = 0.00 mins\n",
      "At iteration 700, cost = 0.001670, Total run time = 0.00 mins\n",
      "At iteration 800, cost = 0.001658, Total run time = 0.01 mins\n",
      "At iteration 900, cost = 0.001650, Total run time = 0.01 mins\n",
      "At iteration 999, cost = 0.001629, Total run time = 0.01 mins\n",
      "Saving...\n",
      "Saved.\n"
     ]
    }
   ],
   "source": [
    "model = FeedForwardNetwork(n_hidden_units=1)\n",
    "\n",
    "n_iterations = 10**3\n",
    "\n",
    "model.learn(x_values, data_sampled, n_iters=n_iterations, learn_rate=2.0, save_to_path='./try/')\n",
    "\n",
    "# model.plot_cost()\n",
    "\n",
    "# model.plot_prediction(x_values, data_sampled, PARAMS)"
   ]
  },
  {
   "cell_type": "code",
   "execution_count": 4,
   "metadata": {
    "collapsed": true
   },
   "outputs": [],
   "source": [
    "model.restore_parameters_and_cost( learn_rate=2.0, iters_millions=n_iterations*10**-6, method='GD', path='./try/')"
   ]
  },
  {
   "cell_type": "code",
   "execution_count": 5,
   "metadata": {
    "collapsed": true
   },
   "outputs": [],
   "source": [
    "w1_0_vals = [wval[0] for wval in model.W1_array]"
   ]
  },
  {
   "cell_type": "code",
   "execution_count": 6,
   "metadata": {
    "collapsed": true
   },
   "outputs": [],
   "source": [
    "c = [cval for cval in model.cost_array]"
   ]
  },
  {
   "cell_type": "code",
   "execution_count": 12,
   "metadata": {
    "collapsed": true
   },
   "outputs": [],
   "source": [
    "def cost_function(W1, b1, W2, b2, non_lin = Tanh, y_true = data_sampled, x=x_values):\n",
    "    h = non_lin(np.outer(W1,x) + b1)\n",
    "    \n",
    "    pred = non_lin(np.dot(W2,h) + b2)\n",
    "\n",
    "    return np.dot( pred - y_true, pred - y_true )/ (2 * x.shape[0])"
   ]
  },
  {
   "cell_type": "code",
   "execution_count": 9,
   "metadata": {},
   "outputs": [
    {
     "data": {
      "image/png": "[encoded data removed]",
      "text/plain": [
       "<matplotlib.figure.Figure at 0x7f2716cc2908>"
      ]
     },
     "metadata": {},
     "output_type": "display_data"
    }
   ],
   "source": [
    "w1_0_vals = [wval[0] for wval in model.W1_array]\n",
    "c = [cval for cval in model.cost_array]\n",
    "plt.figure()\n",
    "w1s = model.W1_array[-1][1:]\n",
    "# x_range = np.arange(np.min(w1_0_vals),np.max(w1_0_vals),0.01)\n",
    "x_range = np.arange(-1,2,0.01)\n",
    "\n",
    "J = [cost_function(np.insert(w1s, 0, w),\n",
    "                   model.b1_array[-1],\n",
    "                   model.W2_array[-1],\n",
    "                   model.b2_array[-1]) \n",
    "     for w in x_range]\n",
    "plt.plot(x_range, J)\n",
    "\n",
    "x = np.array(w1_0_vals)\n",
    "y = np.array(c)\n",
    "plt.quiver(x[:-1], y[:-1], x[1:]-x[:-1], y[1:]-y[:-1], scale_units='xy', angles='xy', scale=1)\n",
    "plt.plot(x,y, 'o', color='red')\n",
    "plt.xlabel('w1_0')\n",
    "plt.ylabel('cost')\n",
    "\n",
    "plt.show()"
   ]
  },
  {
   "cell_type": "markdown",
   "metadata": {},
   "source": [
    "### systematic"
   ]
  },
  {
   "cell_type": "code",
   "execution_count": 10,
   "metadata": {},
   "outputs": [
    {
     "data": {
      "image/png": "[encoded data removed]",
      "text/plain": [
       "<matplotlib.figure.Figure at 0x7f2712607160>"
      ]
     },
     "metadata": {},
     "output_type": "display_data"
    }
   ],
   "source": [
    "param = model.W1_array\n",
    "vals = [val for val in param]\n",
    "c = [cval for cval in model.cost_array]\n",
    "plt.figure()\n",
    "w1s = param[-1][1:]\n",
    "x_range = np.arange(np.min(vals),np.max(vals),0.01)\n",
    "x_range = np.arange(-0.5,1.5,0.01)\n",
    "\n",
    "J = [cost_function(np.insert(w1s, 0, w),\n",
    "                   model.b1_array[-1],\n",
    "                   model.W2_array[-1],\n",
    "                   model.b2_array[-1]) \n",
    "     for w in x_range]\n",
    "plt.plot(x_range, J)\n",
    "\n",
    "x = np.array(vals)\n",
    "y = np.array(c)\n",
    "plt.quiver(x[:-1], y[:-1], x[1:]-x[:-1], y[1:]-y[:-1], scale_units='xy', angles='xy', scale=1)\n",
    "plt.plot(x,y, 'o', color='red')\n",
    "plt.xlabel(\"W1\")\n",
    "plt.ylabel('cost')\n",
    "\n",
    "plt.show()"
   ]
  },
  {
   "cell_type": "code",
   "execution_count": 11,
   "metadata": {},
   "outputs": [
    {
     "data": {
      "image/png": "[encoded data removed]",
      "text/plain": [
       "<matplotlib.figure.Figure at 0x7f27125bdb00>"
      ]
     },
     "metadata": {},
     "output_type": "display_data"
    }
   ],
   "source": [
    "param = model.b1_array\n",
    "vals = [val[0][0] for val in param]\n",
    "c = [cval for cval in model.cost_array]\n",
    "plt.figure()\n",
    "w1s = param[-1][1:]\n",
    "x_range = np.arange(np.min(vals),np.max(vals),0.01)\n",
    "x_range = np.arange(0,3,0.01)\n",
    "\n",
    "J = [cost_function(model.W1_array[-1],\n",
    "                   np.insert(w1s, 0, w),\n",
    "                   model.W2_array[-1],\n",
    "                   model.b2_array[-1]) \n",
    "     for w in x_range]\n",
    "plt.plot(x_range, J)\n",
    "\n",
    "x = np.array(vals)\n",
    "\n",
    "y = np.array(c)\n",
    "plt.quiver(x[:-1], y[:-1], x[1:]-x[:-1], y[1:]-y[:-1], scale_units='xy', angles='xy', scale=1)\n",
    "plt.plot(x,y, 'o', color='red')\n",
    "plt.xlabel(\"b1\")\n",
    "plt.ylabel('cost')\n",
    "\n",
    "plt.show()"
   ]
  },
  {
   "cell_type": "code",
   "execution_count": 12,
   "metadata": {},
   "outputs": [
    {
     "data": {
      "image/png": "[encoded data removed]",
      "text/plain": [
       "<matplotlib.figure.Figure at 0x7f2712499438>"
      ]
     },
     "metadata": {},
     "output_type": "display_data"
    }
   ],
   "source": [
    "param = model.W2_array\n",
    "vals = [val for val in param]\n",
    "c = [cval for cval in model.cost_array]\n",
    "plt.figure()\n",
    "w1s = param[-1][1:]\n",
    "x_range = np.arange(np.min(vals),np.max(vals),0.01)\n",
    "x_range = np.arange(0.4,1.5,0.01)\n",
    "\n",
    "J = [cost_function(model.W1_array[-1],\n",
    "                   model.b1_array[-1],\n",
    "                   np.insert(w1s, 0, w),\n",
    "                   model.b2_array[-1]) \n",
    "     for w in x_range]\n",
    "plt.plot(x_range, J)\n",
    "\n",
    "x = np.array(vals)\n",
    "y = np.array(c)\n",
    "plt.quiver(x[:-1], y[:-1], x[1:]-x[:-1], y[1:]-y[:-1], scale_units='xy', angles='xy', scale=1)\n",
    "plt.plot(x,y, 'o', color='red')\n",
    "plt.xlabel(\"W2\")\n",
    "plt.ylabel('cost')\n",
    "\n",
    "plt.show()"
   ]
  },
  {
   "cell_type": "code",
   "execution_count": 13,
   "metadata": {},
   "outputs": [
    {
     "data": {
      "image/png": "[encoded data removed]",
      "text/plain": [
       "<matplotlib.figure.Figure at 0x7f271248e2e8>"
      ]
     },
     "metadata": {},
     "output_type": "display_data"
    }
   ],
   "source": [
    "param = model.b2_array\n",
    "vals = [val for val in param]\n",
    "c = [cval for cval in model.cost_array]\n",
    "plt.figure()\n",
    "w1s = param[-1][1:]\n",
    "x_range = np.arange(np.min(vals),np.max(vals),0.01)\n",
    "x_range = np.arange(-0.5,0.6,0.01)\n",
    "\n",
    "J = [cost_function(model.W1_array[-1],\n",
    "                   model.b1_array[-1],\n",
    "                   model.W2_array[-1],\n",
    "                   np.insert(w1s, 0, w) )\n",
    "     for w in x_range]\n",
    "plt.plot(x_range, J)\n",
    "\n",
    "x = np.array(vals)\n",
    "\n",
    "y = np.array(c)\n",
    "plt.quiver(x[:-1], y[:-1], x[1:]-x[:-1], y[1:]-y[:-1], scale_units='xy', angles='xy', scale=1)\n",
    "plt.plot(x,y, 'o', color='red')\n",
    "plt.xlabel(\"b2\")\n",
    "plt.ylabel('cost')\n",
    "\n",
    "plt.show()"
   ]
  },
  {
   "cell_type": "markdown",
   "metadata": {},
   "source": [
    "### Subplots"
   ]
  },
  {
   "cell_type": "code",
   "execution_count": 14,
   "metadata": {
    "scrolled": false
   },
   "outputs": [
    {
     "data": {
      "image/png": "[encoded data removed]",
      "text/plain": [
       "<matplotlib.figure.Figure at 0x7f27123bb400>"
      ]
     },
     "metadata": {},
     "output_type": "display_data"
    },
    {
     "data": {
      "text/plain": [
       "<matplotlib.figure.Figure at 0x7f2712390c50>"
      ]
     },
     "metadata": {},
     "output_type": "display_data"
    },
    {
     "data": {
      "text/plain": [
       "<matplotlib.figure.Figure at 0x7f2712425860>"
      ]
     },
     "metadata": {},
     "output_type": "display_data"
    },
    {
     "data": {
      "text/plain": [
       "<matplotlib.figure.Figure at 0x7f27123e46d8>"
      ]
     },
     "metadata": {},
     "output_type": "display_data"
    },
    {
     "data": {
      "text/plain": [
       "<matplotlib.figure.Figure at 0x7f2712435748>"
      ]
     },
     "metadata": {},
     "output_type": "display_data"
    }
   ],
   "source": [
    "mpl.rcParams['figure.figsize'] = (18,16)\n",
    "\n",
    "# row and column sharing\n",
    "\n",
    "# f, ((ax1, ax2), (ax3, ax4)) = plt.subplots(2, 2, sharex='col', sharey='row')\n",
    "f, ((ax1, ax2), (ax3, ax4)) = plt.subplots(2, 2)\n",
    "\n",
    "# W1\n",
    "param = model.W1_array\n",
    "vals = [val for val in param]\n",
    "c = [cval for cval in model.cost_array]\n",
    "plt.figure()\n",
    "w1s = param[-1][1:]\n",
    "x_range = np.arange(np.min(vals),np.max(vals),0.01)\n",
    "x_range = np.arange(-0.5,1.5,0.01)\n",
    "\n",
    "J = [cost_function(np.insert(w1s, 0, w),\n",
    "                   model.b1_array[-1],\n",
    "                   model.W2_array[-1],\n",
    "                   model.b2_array[-1]) \n",
    "     for w in x_range]\n",
    "ax1.plot(x_range, J)\n",
    "\n",
    "u = np.array(vals)\n",
    "v = np.array(c)\n",
    "ax1.quiver(u[:-1], v[:-1], u[1:]-u[:-1], v[1:]-v[:-1], scale_units='xy', angles='xy', scale=1)\n",
    "ax1.plot(u,v, 'o', color='red')\n",
    "ax1.set_xlabel(\"W1\")\n",
    "ax1.set_ylabel('cost')\n",
    "# ax1.set_title('W1')\n",
    "\n",
    "# b1\n",
    "param = model.b1_array\n",
    "vals = [val[0][0] for val in param]\n",
    "c = [cval for cval in model.cost_array]\n",
    "plt.figure()\n",
    "w1s = param[-1][1:]\n",
    "x_range = np.arange(np.min(vals),np.max(vals),0.01)\n",
    "x_range = np.arange(0,3,0.01)\n",
    "\n",
    "J = [cost_function(model.W1_array[-1],\n",
    "                   np.insert(w1s, 0, w),\n",
    "                   model.W2_array[-1],\n",
    "                   model.b2_array[-1]) \n",
    "     for w in x_range]\n",
    "ax2.plot(x_range, J)\n",
    "\n",
    "x = np.array(vals)\n",
    "\n",
    "y = np.array(c)\n",
    "ax2.quiver(x[:-1], y[:-1], x[1:]-x[:-1], y[1:]-y[:-1], scale_units='xy', angles='xy', scale=1)\n",
    "ax2.plot(x,y, 'o', color='red')\n",
    "# ax2.set_title('b1')\n",
    "ax2.set_xlabel(\"b1\")\n",
    "ax2.set_ylabel('cost')\n",
    "\n",
    "# W2\n",
    "param = model.W2_array\n",
    "vals = [val for val in param]\n",
    "c = [cval for cval in model.cost_array]\n",
    "plt.figure()\n",
    "w1s = param[-1][1:]\n",
    "x_range = np.arange(np.min(vals),np.max(vals),0.01)\n",
    "x_range = np.arange(0.4,1.5,0.01)\n",
    "\n",
    "J = [cost_function(model.W1_array[-1],\n",
    "                   model.b1_array[-1],\n",
    "                   np.insert(w1s, 0, w),\n",
    "                   model.b2_array[-1]) \n",
    "     for w in x_range]\n",
    "ax3.plot(x_range, J)\n",
    "\n",
    "x = np.array(vals)\n",
    "y = np.array(c)\n",
    "ax3.quiver(x[:-1], y[:-1], x[1:]-x[:-1], y[1:]-y[:-1], scale_units='xy', angles='xy', scale=1)\n",
    "ax3.plot(x,y, 'o', color='red')\n",
    "# ax3.set_title('W2')\n",
    "ax3.set_xlabel(\"W2\")\n",
    "ax3.set_ylabel('cost')\n",
    "\n",
    "# b2\n",
    "param = model.b2_array\n",
    "vals = [val for val in param]\n",
    "c = [cval for cval in model.cost_array]\n",
    "plt.figure()\n",
    "w1s = param[-1][1:]\n",
    "x_range = np.arange(np.min(vals),np.max(vals),0.01)\n",
    "x_range = np.arange(-0.5,0.6,0.01)\n",
    "\n",
    "J = [cost_function(model.W1_array[-1],\n",
    "                   model.b1_array[-1],\n",
    "                   model.W2_array[-1],\n",
    "                   np.insert(w1s, 0, w) )\n",
    "     for w in x_range]\n",
    "ax4.plot(x_range, J)\n",
    "\n",
    "x = np.array(vals)\n",
    "\n",
    "y = np.array(c)\n",
    "ax4.quiver(x[:-1], y[:-1], x[1:]-x[:-1], y[1:]-y[:-1], scale_units='xy', angles='xy', scale=1)\n",
    "ax4.plot(x,y, 'o', color='red')\n",
    "# ax4.set_title(\"b2\")\n",
    "ax4.set_xlabel(\"b2\")\n",
    "ax4.set_ylabel('cost')\n",
    "\n",
    "# f.subplots_adjust(hspace=0.6, wspace=0.2)\n",
    "\n",
    "plt.show()\n",
    "\n",
    "\n",
    "\n",
    "# x = np.linspace(0, 2 * np.pi, 400)\n",
    "# y = np.sin(x ** 2)\n",
    "\n",
    "# ax1.plot(x, y)\n",
    "\n",
    "# ax2.scatter(x, y)\n",
    "# ax3.scatter(x, 2 * y ** 2 - 1, color='r')\n",
    "# ax4.plot(x, 2 * y ** 2 - 1, color='r')\n"
   ]
  },
  {
   "cell_type": "markdown",
   "metadata": {},
   "source": [
    "Above is 1-hidden unit, single layer FFNN, with biases, all parameters."
   ]
  },
  {
   "cell_type": "markdown",
   "metadata": {},
   "source": [
    "# Without biases to get 2D model"
   ]
  },
  {
   "cell_type": "markdown",
   "metadata": {},
   "source": [
    "# NEED TO ALTER FFNN_class TO GET RID OF BIAS VECTORS SO THAT GRADIENT DESCENT CAN BE PLOTTED ONTO THE COST SURFACE"
   ]
  },
  {
   "cell_type": "code",
   "execution_count": 33,
   "metadata": {},
   "outputs": [
    {
     "data": {
      "text/plain": [
       "40"
      ]
     },
     "execution_count": 33,
     "metadata": {},
     "output_type": "execute_result"
    }
   ],
   "source": [
    "x_values.shape[0]"
   ]
  },
  {
   "cell_type": "code",
   "execution_count": 35,
   "metadata": {
    "scrolled": false
   },
   "outputs": [
    {
     "data": {
      "image/png": "[encoded data removed]",
      "text/plain": [
       "<matplotlib.figure.Figure at 0x7f0b5c03e748>"
      ]
     },
     "metadata": {},
     "output_type": "display_data"
    }
   ],
   "source": [
    "fig = plt.figure()\n",
    "ax = fig.gca(projection='3d')\n",
    "\n",
    "W1 = np.arange(-5, 5, 0.25)\n",
    "W2 = np.arange(-5, 5, 0.25)\n",
    "W1, W2 = np.meshgrid(W1, W2)\n",
    "Z = cost_function_2d(W1, W2)\n",
    "# Plot the surface.\n",
    "surf = ax.plot_surface(W1, W2, Z, cmap=cm.coolwarm,\n",
    "                       linewidth=0, antialiased=False)\n",
    "\n",
    "# Customize the z axis.\n",
    "# ax.set_zlim(-1.01, 1.01)\n",
    "# ax.zaxis.set_major_locator(LinearLocator(10))\n",
    "# ax.zaxis.set_major_formatter(FormatStrFormatter('%.02f'))\n",
    "\n",
    "# Add a color bar which maps values to colors.\n",
    "fig.colorbar(surf, shrink=0.5, aspect=5)\n",
    "\n",
    "plt.show()"
   ]
  },
  {
   "cell_type": "code",
   "execution_count": null,
   "metadata": {
    "collapsed": true
   },
   "outputs": [],
   "source": []
  },
  {
   "cell_type": "code",
   "execution_count": 23,
   "metadata": {},
   "outputs": [
    {
     "data": {
      "text/html": [
       "<iframe id=\"igraph\" scrolling=\"no\" style=\"border:none;\" seamless=\"seamless\" src=\"https://plot.ly/~zac_kenton/2.embed\" height=\"525px\" width=\"100%\"></iframe>"
      ],
      "text/plain": [
       "<plotly.tools.PlotlyDisplay object>"
      ]
     },
     "execution_count": 23,
     "metadata": {},
     "output_type": "execute_result"
    }
   ],
   "source": [
    "import plotly.plotly as py\n",
    "import plotly.graph_objs as go\n",
    "import pandas as pd\n",
    "\n",
    "W1 = np.arange(-5, 5, 0.25)\n",
    "W2 = np.arange(-5, 5, 0.25)\n",
    "W1, W2 = np.meshgrid(W1, W2)\n",
    "Z = cost_function_2d(W1, W2)\n",
    "\n",
    "data = [\n",
    "    go.Surface(\n",
    "        z = Z,\n",
    "        x = W1[0,:],\n",
    "        y = W2[:,0]\n",
    "    )\n",
    "]\n",
    "\n",
    "layout = go.Layout(\n",
    "    title='cost',\n",
    "#     autosize=False,\n",
    "#     width=500,\n",
    "#     height=500,\n",
    "#     margin=dict(\n",
    "#         l=65,\n",
    "#         r=50,\n",
    "#         b=65,\n",
    "#         t=90\n",
    "#     )\n",
    ")\n",
    "fig = go.Figure(data=data, layout=layout)\n",
    "py.iplot(fig, filename='elevations-3d-surface')"
   ]
  },
  {
   "cell_type": "code",
   "execution_count": 24,
   "metadata": {
    "scrolled": false
   },
   "outputs": [
    {
     "data": {
      "text/html": [
       "<iframe id=\"igraph\" scrolling=\"no\" style=\"border:none;\" seamless=\"seamless\" src=\"https://plot.ly/~zac_kenton/2.embed\" height=\"500px\" width=\"500px\"></iframe>"
      ],
      "text/plain": [
       "<plotly.tools.PlotlyDisplay object>"
      ]
     },
     "execution_count": 24,
     "metadata": {},
     "output_type": "execute_result"
    }
   ],
   "source": [
    "\n",
    "\n",
    "W1 = np.arange(-5, 5, 0.25)\n",
    "W2 = np.arange(-5, 5, 0.25)\n",
    "W1, W2 = np.meshgrid(W1, W2)\n",
    "Z = cost_function_2d(W1, W2)\n",
    "\n",
    "data = [\n",
    "    go.Contour(\n",
    "        z = Z,\n",
    "        x = W1[0,:],\n",
    "        y = W2[:,0]\n",
    "    )\n",
    "]\n",
    "\n",
    "layout = go.Layout(\n",
    "    title='cost',\n",
    "    autosize=False,\n",
    "    width=500,\n",
    "    height=500,\n",
    "    margin=dict(\n",
    "        l=65,\n",
    "        r=50,\n",
    "        b=65,\n",
    "        t=90\n",
    "    )\n",
    ")\n",
    "fig = go.Figure(data=data, layout=layout)\n",
    "py.iplot(fig, filename='elevations-3d-surface')"
   ]
  },
  {
   "cell_type": "code",
   "execution_count": 4,
   "metadata": {},
   "outputs": [
    {
     "name": "stdout",
     "output_type": "stream",
     "text": [
      "Started.\n",
      "At iteration 1000, cost = 0.115285, Total run time = 0.01 mins\n",
      "At iteration 2000, cost = 0.115166, Total run time = 0.01 mins\n",
      "At iteration 3000, cost = 0.115165, Total run time = 0.02 mins\n",
      "At iteration 4000, cost = 0.115165, Total run time = 0.02 mins\n",
      "At iteration 5000, cost = 0.115165, Total run time = 0.03 mins\n",
      "At iteration 6000, cost = 0.115165, Total run time = 0.03 mins\n",
      "At iteration 7000, cost = 0.115165, Total run time = 0.04 mins\n",
      "At iteration 8000, cost = 0.115165, Total run time = 0.04 mins\n",
      "At iteration 9000, cost = 0.115165, Total run time = 0.05 mins\n",
      "At iteration 9999, cost = 0.115050, Total run time = 0.05 mins\n",
      "Saving...\n",
      "Saved.\n"
     ]
    }
   ],
   "source": [
    "model = two_d_network(n_hidden_units=1, seed=4, rand=False, W1=0.)\n",
    "\n",
    "n_iterations = 10**4\n",
    "\n",
    "model.learn(x_values, data_sampled, n_iters=n_iterations, learn_rate=10.0, save_to_path='./try/two_d/')"
   ]
  },
  {
   "cell_type": "code",
   "execution_count": 5,
   "metadata": {
    "collapsed": true
   },
   "outputs": [],
   "source": [
    "W1_tried = np.array(model.W1_array)\n",
    "W2_tried = np.array(model.W2_array)"
   ]
  },
  {
   "cell_type": "code",
   "execution_count": 6,
   "metadata": {},
   "outputs": [
    {
     "data": {
      "text/plain": [
       "array([[ 0.35637665],\n",
       "       [ 0.54658989],\n",
       "       [ 0.6100544 ],\n",
       "       [ 0.61846593],\n",
       "       [ 0.61942011],\n",
       "       [ 0.61952642],\n",
       "       [ 0.61953823],\n",
       "       [ 0.61953955],\n",
       "       [ 0.61953969],\n",
       "       [ 0.61953971]])"
      ]
     },
     "execution_count": 6,
     "metadata": {},
     "output_type": "execute_result"
    }
   ],
   "source": [
    "W1_tried"
   ]
  },
  {
   "cell_type": "code",
   "execution_count": 7,
   "metadata": {},
   "outputs": [
    {
     "data": {
      "text/plain": [
       "array([[ 0.37340981],\n",
       "       [ 0.25128453],\n",
       "       [ 0.22806661],\n",
       "       [ 0.22536711],\n",
       "       [ 0.22506581],\n",
       "       [ 0.2250323 ],\n",
       "       [ 0.22502858],\n",
       "       [ 0.22502816],\n",
       "       [ 0.22502812],\n",
       "       [ 0.22502811]])"
      ]
     },
     "execution_count": 7,
     "metadata": {},
     "output_type": "execute_result"
    }
   ],
   "source": [
    "W2_tried"
   ]
  },
  {
   "cell_type": "code",
   "execution_count": 40,
   "metadata": {},
   "outputs": [
    {
     "data": {
      "text/plain": [
       "array([ 0.11847802,  0.11835773,  0.11835805,  0.1183585 ,  0.11835851,\n",
       "        0.11835849,  0.11835805,  0.11835847,  0.11835851,  0.11824016])"
      ]
     },
     "execution_count": 40,
     "metadata": {},
     "output_type": "execute_result"
    }
   ],
   "source": [
    "np.array(model.cost_array)"
   ]
  },
  {
   "cell_type": "code",
   "execution_count": 10,
   "metadata": {},
   "outputs": [
    {
     "data": {
      "text/html": [
       "<iframe id=\"igraph\" scrolling=\"no\" style=\"border:none;\" seamless=\"seamless\" src=\"https://plot.ly/~zac_kenton/25.embed\" height=\"800px\" width=\"800px\"></iframe>"
      ],
      "text/plain": [
       "<plotly.tools.PlotlyDisplay object>"
      ]
     },
     "execution_count": 10,
     "metadata": {},
     "output_type": "execute_result"
    }
   ],
   "source": [
    "W1 = np.arange(-1, 1, 0.05)\n",
    "W2 = np.arange(-1, 1, 0.05)\n",
    "W1, W2 = np.meshgrid(W1, W2)\n",
    "Z = cost_function_2d(W1, W2)\n",
    "\n",
    "trace1 = go.Contour(\n",
    "        z = Z,\n",
    "        x = W1[0,:],\n",
    "        y = W2[:,0],\n",
    "    ncontours=30,\n",
    ")\n",
    "\n",
    "# data = [trace1]\n",
    "# py.iplot(data)\n",
    "\n",
    "\n",
    "\n",
    "\n",
    "trace2 = go.Scatter(\n",
    "    x=W1_tried,\n",
    "    y=W2_tried,\n",
    "    mode='markers+lines',\n",
    "    name='steepest',\n",
    "    line=dict(\n",
    "        color='black'\n",
    "    )\n",
    ")\n",
    "\n",
    "layout = go.Layout(\n",
    "    title='cost',\n",
    "    autosize=False,\n",
    "    width=800,\n",
    "    height=800,\n",
    "    margin=dict(\n",
    "        l=65,\n",
    "        r=50,\n",
    "        b=65,\n",
    "        t=90\n",
    "    )\n",
    ")\n",
    "\n",
    "data = [trace1, trace2]\n",
    "fig = go.Figure(data=data, layout=layout)\n",
    "py.iplot(fig, filename='contour-scatter')"
   ]
  },
  {
   "cell_type": "code",
   "execution_count": 11,
   "metadata": {},
   "outputs": [
    {
     "data": {
      "text/html": [
       "<iframe id=\"igraph\" scrolling=\"no\" style=\"border:none;\" seamless=\"seamless\" src=\"https://plot.ly/~zac_kenton/25.embed\" height=\"800px\" width=\"800px\"></iframe>"
      ],
      "text/plain": [
       "<plotly.tools.PlotlyDisplay object>"
      ]
     },
     "execution_count": 11,
     "metadata": {},
     "output_type": "execute_result"
    }
   ],
   "source": [
    "W1 = np.arange(-1, 1, 0.05)\n",
    "W2 = np.arange(-1, 1, 0.05)\n",
    "W1, W2 = np.meshgrid(W1, W2)\n",
    "Z = cost_function_2d(W1, W2)\n",
    "\n",
    "trace1 = go.Surface(\n",
    "        z = Z,\n",
    "        x = W1[0,:],\n",
    "        y = W2[:,0]\n",
    "    )\n",
    "\n",
    "# data = [trace1]\n",
    "# py.iplot(data)\n",
    "\n",
    "\n",
    "W1_tried = np.array(model.W1_array)\n",
    "W2_tried = np.array(model.W2_array)\n",
    "\n",
    "trace2 = go.Scatter3d(\n",
    "    x=W1_tried,\n",
    "    y=W2_tried,\n",
    "    z = np.array(model.cost_array),\n",
    "    mode='markers+lines',\n",
    "    name='steepest',\n",
    "    line=dict(\n",
    "        color='black'\n",
    "    )\n",
    ")\n",
    "\n",
    "layout = go.Layout(\n",
    "    title='cost',\n",
    "    autosize=False,\n",
    "    width=800,\n",
    "    height=800,\n",
    "    margin=dict(\n",
    "        l=65,\n",
    "        r=50,\n",
    "        b=65,\n",
    "        t=90\n",
    "    )\n",
    ")\n",
    "\n",
    "data = [trace1, trace2]\n",
    "fig = go.Figure(data=data, layout=layout)\n",
    "py.iplot(fig, filename='contour-scatter')\n",
    "\n",
    "#\n"
   ]
  },
  {
   "cell_type": "code",
   "execution_count": 19,
   "metadata": {},
   "outputs": [
    {
     "data": {
      "text/html": [
       "<iframe id=\"igraph\" scrolling=\"no\" style=\"border:none;\" seamless=\"seamless\" src=\"https://plot.ly/~zac_kenton/40.embed\" height=\"525px\" width=\"100%\"></iframe>"
      ],
      "text/plain": [
       "<plotly.tools.PlotlyDisplay object>"
      ]
     },
     "execution_count": 19,
     "metadata": {},
     "output_type": "execute_result"
    }
   ],
   "source": [
    "trace1 = go.Scatter3d(\n",
    "    x=W1_tried,\n",
    "    y=W2_tried,\n",
    "    z = np.array(model.cost_array),\n",
    "    mode='markers+lines',\n",
    "    name='steepest',\n",
    "    line=dict(\n",
    "        color='black'\n",
    "    )\n",
    ")\n",
    "data = [trace1]\n",
    "py.iplot(data)"
   ]
  },
  {
   "cell_type": "code",
   "execution_count": 4,
   "metadata": {},
   "outputs": [
    {
     "name": "stdout",
     "output_type": "stream",
     "text": [
      "Started.\n",
      "At iteration 100, cost = 0.122946, Total run time = 0.00 mins\n",
      "At iteration 200, cost = 0.121057, Total run time = 0.00 mins\n",
      "At iteration 300, cost = 0.121057, Total run time = 0.00 mins\n",
      "At iteration 400, cost = 0.121057, Total run time = 0.00 mins\n",
      "At iteration 500, cost = 0.121057, Total run time = 0.00 mins\n",
      "At iteration 600, cost = 0.121057, Total run time = 0.00 mins\n",
      "At iteration 700, cost = 0.121057, Total run time = 0.00 mins\n",
      "At iteration 800, cost = 0.121057, Total run time = 0.00 mins\n",
      "At iteration 900, cost = 0.121057, Total run time = 0.01 mins\n",
      "At iteration 999, cost = 0.119846, Total run time = 0.01 mins\n",
      "Saving...\n",
      "Saved.\n"
     ]
    }
   ],
   "source": [
    "model = two_d_network(n_hidden_units=1)\n",
    "\n",
    "n_iterations = 10**3\n",
    "\n",
    "model.learn(x_values, data_sampled, n_iters=n_iterations, learn_rate=2.0, save_to_path='./try/two_d/')\n",
    "\n",
    "# model.plot_cost()\n",
    "\n",
    "# model.plot_prediction(x_values, data_sampled, PARAMS)"
   ]
  },
  {
   "cell_type": "code",
   "execution_count": 5,
   "metadata": {
    "collapsed": true
   },
   "outputs": [],
   "source": [
    "model.restore_parameters_and_cost( learn_rate=2.0, iters_millions=n_iterations*10**-6, method='GD', path='./try/two_d/')"
   ]
  },
  {
   "cell_type": "code",
   "execution_count": 6,
   "metadata": {},
   "outputs": [
    {
     "data": {
      "text/plain": [
       "[array([-0.12578453]),\n",
       " array([-0.12576288]),\n",
       " array([-0.12574124]),\n",
       " array([-0.12571962]),\n",
       " array([-0.12569803]),\n",
       " array([-0.12567645]),\n",
       " array([-0.12565489]),\n",
       " array([-0.12563335]),\n",
       " array([-0.12561183]),\n",
       " array([-0.12559054])]"
      ]
     },
     "execution_count": 6,
     "metadata": {},
     "output_type": "execute_result"
    }
   ],
   "source": [
    "model.W1_array"
   ]
  },
  {
   "cell_type": "code",
   "execution_count": null,
   "metadata": {
    "collapsed": true
   },
   "outputs": [],
   "source": []
  }
 ],
 "metadata": {
  "anaconda-cloud": {},
  "kernelspec": {
   "display_name": "Python [conda env:Python3]",
   "language": "python",
   "name": "conda-env-Python3-py"
  },
  "language_info": {
   "codemirror_mode": {
    "name": "ipython",
    "version": 3
   },
   "file_extension": ".py",
   "mimetype": "text/x-python",
   "name": "python",
   "nbconvert_exporter": "python",
   "pygments_lexer": "ipython3",
   "version": "3.5.3"
  }
 },
 "nbformat": 4,
 "nbformat_minor": 2
}
